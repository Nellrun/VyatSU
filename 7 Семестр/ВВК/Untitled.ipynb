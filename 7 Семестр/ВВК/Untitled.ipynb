{
 "cells": [
  {
   "cell_type": "code",
   "execution_count": 3,
   "metadata": {},
   "outputs": [
    {
     "name": "stdout",
     "output_type": "stream",
     "text": [
      "V_min(0) = 192000.0\n",
      "V_min(1) = 40.0\n",
      "V_min(2) = 0.2\n",
      "S_min(0) = 192000.0\n",
      "S_min(1) = 200000.0\n",
      "S_min(2) = 20000.0\n",
      "S_min = 412000.0\n",
      "V(0) = 304481.7282404932\n",
      "V(1) = 62.960236631301086\n",
      "V(2) = 0.5630332168567156\n",
      "S(0) = 304481.7282404932\n",
      "S(1) = 314801.18315650546\n",
      "S(2) = 56303.32168567156\n",
      "S = 675586.2330826703\n",
      "S0 = 263586.23308267025\n",
      "V_min(0) = 192000.0\n",
      "V_min(1) = 40.0\n",
      "V_min(2) = 0.2\n",
      "V(0) = 362694.39010529034\n",
      "V(1) = 74.84284647612824\n",
      "V(2) = 0.7509137751406847\n",
      "S_min(0) = 192000.0\n",
      "S_min(1) = 200000.0\n",
      "S_min(2) = 20000.0\n",
      "S_min = 412000.0\n",
      "S0 = -12000.0\n",
      "U = -439.310388471117\n"
     ]
    }
   ],
   "source": [
    "l0 = 0.2\n",
    "alpha = [60, 40, 1]\n",
    "q = [16000, 5, 1]\n",
    "k = [1, 5000, 100000]\n",
    "u_ = 20\n",
    "s_ = 400000\n",
    "\n",
    "l = list(map(lambda a : l0 * a, alpha))\n",
    "v_min = []\n",
    "v = []\n",
    "s = []\n",
    "s_min = 0\n",
    "\n",
    "for i, qi in enumerate(q):\n",
    "\tprint(\"V_min({}) =\".format(i), qi * l[i])\n",
    "\tv_min.append(qi * l[i])\n",
    "\n",
    "for i, data in enumerate(zip(k, v_min)):\n",
    "\tki, vi_min = data\n",
    "\ts_min += ki * vi_min\n",
    "\tprint(\"S_min({}) = {}\".format(i, ki*vi_min))\n",
    "\n",
    "print(\"S_min =\", s_min)\n",
    "\n",
    "for i in range(len(l)):\n",
    "\tvi = l[i]*q[i] + (1 / (l0 * u_)) * (l[i]*q[i]/k[i])**0.5 * sum((li*qi*ki)**0.5 for li, qi, ki in zip(l, q, k))\n",
    "\tprint(\"V({}) = {}\".format(i, vi))\n",
    "\tv.append(vi)\n",
    "\n",
    "for i, elems in enumerate(zip(k, v)):\n",
    "\tki, vi = elems\n",
    "\tsi = ki*vi\n",
    "\tprint(\"S({}) = {}\".format(i, si))\n",
    "\ts.append(si)\n",
    "\n",
    "print(\"S =\", sum(s))\n",
    "print(\"S0 =\", sum(s) - s_min)\n",
    "\n",
    "v_min = []\n",
    "for i, qi in enumerate(q):\n",
    "\tprint(\"V_min({}) =\".format(i), qi * alpha[i] * l0)\n",
    "\tv_min.append(qi * l[i])\n",
    "\n",
    "v = []\n",
    "for i in range(len(l)):\n",
    "\tvi = l0 * alpha[i] * q[i] + (s_/k[i]) * (k[i]*alpha[i]*q[i])**0.5 / sum((ki * ai * qi)**0.5 for ki, ai, qi in zip(k, alpha, q))\n",
    "\tprint(\"V({}) = {}\".format(i, vi))\n",
    "\tv.append(vi)\n",
    "\n",
    "s_min = 0\n",
    "for i, data in enumerate(zip(k, v_min)):\n",
    "\tki, vi_min = data\n",
    "\ts_min += ki * vi_min\n",
    "\tprint(\"S_min({}) = {}\".format(i, ki*vi_min))\n",
    "\n",
    "print(\"S_min =\", s_min)\n",
    "print(\"S0 =\", s_ - s_min)\n",
    "\n",
    "u = 1 / (s_ - s_min) * sum((ki * ai * qi)**0.5 for ki, ai, qi in zip(k, alpha, q))**2\n",
    "print(\"U = {}\".format(u))"
   ]
  },
  {
   "cell_type": "code",
   "execution_count": 4,
   "metadata": {
    "collapsed": true
   },
   "outputs": [],
   "source": [
    "import seaborn as sns\n",
    "import matplotlib.pyplot as plt"
   ]
  },
  {
   "cell_type": "code",
   "execution_count": 5,
   "metadata": {
    "collapsed": true
   },
   "outputs": [],
   "source": [
    "def calcS(u_):\n",
    "    l = list(map(lambda a : l0 * a, alpha))\n",
    "    v_min = []\n",
    "    v = []\n",
    "    s = []\n",
    "    s_min = 0\n",
    "    for i, qi in enumerate(q):\n",
    "        v_min.append(qi * l[i])\n",
    "\n",
    "    for i, data in enumerate(zip(k, v_min)):\n",
    "        ki, vi_min = data\n",
    "        s_min += ki * vi_min\n",
    "\n",
    "    for i in range(len(l)):\n",
    "        vi = l[i]*q[i] + (1 / (l0 * u_)) * (l[i]*q[i]/k[i])**0.5 * sum((li*qi*ki)**0.5 for li, qi, ki in zip(l, q, k))\n",
    "        v.append(vi)\n",
    "\n",
    "    for i, elems in enumerate(zip(k, v)):\n",
    "        ki, vi = elems\n",
    "        si = ki*vi\n",
    "        s.append(si)\n",
    "\n",
    "    return sum(s)"
   ]
  },
  {
   "cell_type": "code",
   "execution_count": 6,
   "metadata": {
    "collapsed": true
   },
   "outputs": [],
   "source": [
    "def calcU(s_):\n",
    "    l = list(map(lambda a : l0 * a, alpha))\n",
    "    v_min = []\n",
    "    v = []\n",
    "    s = []\n",
    "    s_min = 0\n",
    "\n",
    "    for i, qi in enumerate(q):\n",
    "        v_min.append(qi * l[i])\n",
    "\n",
    "    for i, data in enumerate(zip(k, v_min)):\n",
    "        ki, vi_min = data\n",
    "        s_min += ki * vi_min\n",
    "\n",
    "    for i in range(len(l)):\n",
    "        vi = l[i]*q[i] + (1 / (l0 * u_)) * (l[i]*q[i]/k[i])**0.5 * sum((li*qi*ki)**0.5 for li, qi, ki in zip(l, q, k))\n",
    "        v.append(vi)\n",
    "\n",
    "    for i, elems in enumerate(zip(k, v)):\n",
    "        ki, vi = elems\n",
    "        si = ki*vi\n",
    "        s.append(si)\n",
    "        \n",
    "    v_min = []\n",
    "    for i, qi in enumerate(q):\n",
    "        v_min.append(qi * l[i])\n",
    "\n",
    "    v = []\n",
    "    for i in range(len(l)):\n",
    "        vi = l0 * alpha[i] * q[i] + (s_/k[i]) * (k[i]*alpha[i]*q[i])**0.5 / sum((ki * ai * qi)**0.5 for ki, ai, qi in zip(k, alpha, q))\n",
    "        v.append(vi)\n",
    "\n",
    "    s_min = 0\n",
    "    for i, data in enumerate(zip(k, v_min)):\n",
    "        ki, vi_min = data\n",
    "        s_min += ki * vi_min\n",
    "\n",
    "    u = 1 / (s_ - s_min) * sum((ki * ai * qi)**0.5 for ki, ai, qi in zip(k, alpha, q))**2\n",
    "    return u"
   ]
  },
  {
   "cell_type": "code",
   "execution_count": 12,
   "metadata": {
    "collapsed": true
   },
   "outputs": [],
   "source": [
    "x = range(1, 50)\n",
    "y = [calcS(u) for u in x]"
   ]
  },
  {
   "cell_type": "code",
   "execution_count": 35,
   "metadata": {},
   "outputs": [
    {
     "data": {
      "text/plain": [
       "Text(0,0.5,'S')"
      ]
     },
     "execution_count": 35,
     "metadata": {},
     "output_type": "execute_result"
    },
    {
     "data": {
      "image/png": "[encoded data removed]",
      "text/plain": [
       "<matplotlib.figure.Figure at 0x11883d0>"
      ]
     },
     "metadata": {},
     "output_type": "display_data"
    }
   ],
   "source": [
    "%matplotlib inline\n",
    "plt.subplots(figsize=(10, 7))\n",
    "\n",
    "plt.plot(x, y)\n",
    "plt.grid(True)\n",
    "plt.title(\"График зависимости S от U*\")\n",
    "plt.xlabel(\"U*\")\n",
    "plt.ylabel(\"S\")"
   ]
  },
  {
   "cell_type": "code",
   "execution_count": 65,
   "metadata": {
    "collapsed": true
   },
   "outputs": [],
   "source": [
    "x = range(413000, 1000000, 10000)\n",
    "y = [calcU(s) for s in x]"
   ]
  },
  {
   "cell_type": "code",
   "execution_count": 66,
   "metadata": {},
   "outputs": [
    {
     "data": {
      "text/plain": [
       "Text(0,0.5,'U')"
      ]
     },
     "execution_count": 66,
     "metadata": {},
     "output_type": "execute_result"
    },
    {
     "data": {
      "image/png": "[encoded data removed]",
      "text/plain": [
       "<matplotlib.figure.Figure at 0x5f6d670>"
      ]
     },
     "metadata": {},
     "output_type": "display_data"
    }
   ],
   "source": [
    "%matplotlib inline\n",
    "plt.subplots(figsize=(10, 7))\n",
    "\n",
    "plt.plot(x, y)\n",
    "plt.grid(True)\n",
    "plt.title(\"График зависимости S от U*\")\n",
    "plt.xlabel(\"S*\")\n",
    "plt.ylabel(\"U\")"
   ]
  },
  {
   "cell_type": "code",
   "execution_count": 21,
   "metadata": {},
   "outputs": [
    {
     "data": {
      "text/plain": [
       "28.04108862581598"
      ]
     },
     "execution_count": 21,
     "metadata": {},
     "output_type": "execute_result"
    }
   ],
   "source": [
    "calcU(600000)"
   ]
  },
  {
   "cell_type": "code",
   "execution_count": 30,
   "metadata": {
    "collapsed": true
   },
   "outputs": [],
   "source": [
    "x = range(600000, 1000000, 6000)\n",
    "y = [round(calcU(s), 3) for s in x]"
   ]
  },
  {
   "cell_type": "code",
   "execution_count": 31,
   "metadata": {},
   "outputs": [
    {
     "data": {
      "text/plain": [
       "[28.041,\n",
       " 27.174,\n",
       " 26.359,\n",
       " 25.591,\n",
       " 24.867,\n",
       " 24.182,\n",
       " 23.534,\n",
       " 22.921,\n",
       " 22.338,\n",
       " 21.784,\n",
       " 21.257,\n",
       " 20.755,\n",
       " 20.276,\n",
       " 19.819,\n",
       " 19.381,\n",
       " 18.963,\n",
       " 18.562,\n",
       " 18.178,\n",
       " 17.81,\n",
       " 17.456,\n",
       " 17.116,\n",
       " 16.789,\n",
       " 16.474,\n",
       " 16.171,\n",
       " 15.879,\n",
       " 15.597,\n",
       " 15.325,\n",
       " 15.062,\n",
       " 14.808,\n",
       " 14.563,\n",
       " 14.325,\n",
       " 14.096,\n",
       " 13.873,\n",
       " 13.657,\n",
       " 13.448,\n",
       " 13.246,\n",
       " 13.049,\n",
       " 12.858,\n",
       " 12.672,\n",
       " 12.492,\n",
       " 12.317,\n",
       " 12.147,\n",
       " 11.981,\n",
       " 11.82,\n",
       " 11.663,\n",
       " 11.51,\n",
       " 11.361,\n",
       " 11.216,\n",
       " 11.075,\n",
       " 10.937,\n",
       " 10.803,\n",
       " 10.672,\n",
       " 10.543,\n",
       " 10.418,\n",
       " 10.296,\n",
       " 10.177,\n",
       " 10.061,\n",
       " 9.947,\n",
       " 9.835,\n",
       " 9.726,\n",
       " 9.62,\n",
       " 9.516,\n",
       " 9.414,\n",
       " 9.314,\n",
       " 9.216,\n",
       " 9.121,\n",
       " 9.027]"
      ]
     },
     "execution_count": 31,
     "metadata": {},
     "output_type": "execute_result"
    }
   ],
   "source": [
    "y"
   ]
  },
  {
   "cell_type": "code",
   "execution_count": 39,
   "metadata": {},
   "outputs": [
    {
     "name": "stdout",
     "output_type": "stream",
     "text": [
      "-0.867\n",
      "-0.815\n",
      "-0.768\n",
      "-0.724\n",
      "-0.685\n",
      "-0.648\n",
      "-0.613\n",
      "-0.583\n",
      "-0.554\n",
      "-0.527\n",
      "-0.502\n",
      "-0.479\n",
      "-0.457\n",
      "-0.438\n",
      "-0.418\n",
      "-0.401\n",
      "-0.384\n",
      "-0.368\n",
      "-0.354\n",
      "-0.34\n",
      "-0.327\n",
      "-0.315\n",
      "-0.303\n",
      "-0.292\n",
      "-0.282\n",
      "-0.272\n",
      "-0.263\n",
      "-0.254\n",
      "-0.245\n",
      "-0.238\n",
      "-0.229\n",
      "-0.223\n",
      "-0.216\n",
      "-0.209\n",
      "-0.202\n",
      "-0.197\n",
      "-0.191\n",
      "-0.186\n",
      "-0.18\n",
      "-0.175\n",
      "-0.17\n",
      "-0.166\n",
      "-0.161\n",
      "-0.157\n",
      "-0.153\n",
      "-0.149\n",
      "-0.145\n",
      "-0.141\n",
      "-0.138\n",
      "-0.134\n",
      "-0.131\n",
      "-0.129\n",
      "-0.125\n",
      "-0.122\n",
      "-0.119\n",
      "-0.116\n",
      "-0.114\n",
      "-0.112\n",
      "-0.109\n",
      "-0.106\n",
      "-0.104\n",
      "-0.102\n",
      "-0.1\n",
      "-0.098\n",
      "-0.095\n",
      "-0.094\n"
     ]
    }
   ],
   "source": [
    "for i in range(len(y) - 1):\n",
    "#     print((y[i+1] - y[i]) / y[0] * 100)\n",
    "    print( round((y[i+1] - y[i]), 3) )"
   ]
  },
  {
   "cell_type": "code",
   "execution_count": 38,
   "metadata": {},
   "outputs": [
    {
     "data": {
      "text/plain": [
       "[600000,\n",
       " 606000,\n",
       " 612000,\n",
       " 618000,\n",
       " 624000,\n",
       " 630000,\n",
       " 636000,\n",
       " 642000,\n",
       " 648000,\n",
       " 654000,\n",
       " 660000,\n",
       " 666000,\n",
       " 672000,\n",
       " 678000,\n",
       " 684000,\n",
       " 690000,\n",
       " 696000,\n",
       " 702000,\n",
       " 708000,\n",
       " 714000,\n",
       " 720000,\n",
       " 726000,\n",
       " 732000,\n",
       " 738000,\n",
       " 744000,\n",
       " 750000,\n",
       " 756000,\n",
       " 762000,\n",
       " 768000,\n",
       " 774000,\n",
       " 780000,\n",
       " 786000,\n",
       " 792000,\n",
       " 798000,\n",
       " 804000,\n",
       " 810000,\n",
       " 816000,\n",
       " 822000,\n",
       " 828000,\n",
       " 834000,\n",
       " 840000,\n",
       " 846000,\n",
       " 852000,\n",
       " 858000,\n",
       " 864000,\n",
       " 870000,\n",
       " 876000,\n",
       " 882000,\n",
       " 888000,\n",
       " 894000,\n",
       " 900000,\n",
       " 906000,\n",
       " 912000,\n",
       " 918000,\n",
       " 924000,\n",
       " 930000,\n",
       " 936000,\n",
       " 942000,\n",
       " 948000,\n",
       " 954000,\n",
       " 960000,\n",
       " 966000,\n",
       " 972000,\n",
       " 978000,\n",
       " 984000,\n",
       " 990000,\n",
       " 996000]"
      ]
     },
     "execution_count": 38,
     "metadata": {},
     "output_type": "execute_result"
    }
   ],
   "source": [
    "[x for x in x]"
   ]
  },
  {
   "cell_type": "code",
   "execution_count": null,
   "metadata": {
    "collapsed": true
   },
   "outputs": [],
   "source": []
  }
 ],
 "metadata": {
  "kernelspec": {
   "display_name": "Python 3",
   "language": "python",
   "name": "python3"
  },
  "language_info": {
   "codemirror_mode": {
    "name": "ipython",
    "version": 3
   },
   "file_extension": ".py",
   "mimetype": "text/x-python",
   "name": "python",
   "nbconvert_exporter": "python",
   "pygments_lexer": "ipython3",
   "version": "3.6.1"
  }
 },
 "nbformat": 4,
 "nbformat_minor": 2
}
