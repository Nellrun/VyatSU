{
 "cells": [
  {
   "cell_type": "code",
   "execution_count": 18,
   "metadata": {
    "collapsed": true
   },
   "outputs": [],
   "source": [
    "import math"
   ]
  },
  {
   "cell_type": "code",
   "execution_count": 19,
   "metadata": {
    "collapsed": false
   },
   "outputs": [
    {
     "name": "stdout",
     "output_type": "stream",
     "text": [
      "R_x = 1768.0860468542803\n",
      "Z = 2095.5574182732607\n",
      "w = 628318.5307179586\n",
      "L = 0.0017902155391654236\n",
      "g = 0.005435811574764624\n"
     ]
    }
   ],
   "source": [
    "L_u = 0.0018\n",
    "U_d = 12\n",
    "I_d = 0.006787\n",
    "U_a = 10\n",
    "I_a = 0.004772\n",
    "f = 100000\n",
    "\n",
    "R_x = U_d / I_d\n",
    "print(\"R_x = {}\".format(R_x))\n",
    "\n",
    "Z = U_a / I_a\n",
    "print(\"Z = {}\".format(Z))\n",
    "\n",
    "w = 2 * math.pi * f\n",
    "print(\"w = {}\".format(w))\n",
    "\n",
    "L = ((Z**2 - R_x**2)**0.5) / w\n",
    "print(\"L = {}\".format(L))\n",
    "\n",
    "g = abs(L - L_u) / L_u\n",
    "print(\"g = {}\".format(g))"
   ]
  },
  {
   "cell_type": "code",
   "execution_count": 29,
   "metadata": {
    "collapsed": false
   },
   "outputs": [
    {
     "name": "stdout",
     "output_type": "stream",
     "text": [
      "R_x = 1719.4440464249892\n",
      "Z = 784.9293563579278\n",
      "C = 1.8040315132848086e-09\n",
      "g = 0.002239729602671328\n"
     ]
    }
   ],
   "source": [
    "C_u = 1.8 * 10**-9\n",
    "U_d = 12\n",
    "I_d = 0.006979\n",
    "U_a = 10\n",
    "I_a = 0.01274\n",
    "\n",
    "R_x = U_d / I_d\n",
    "print(\"R_x = {}\".format(R_x))\n",
    "\n",
    "Z = U_a / I_a\n",
    "print(\"Z = {}\".format(Z))\n",
    "\n",
    "C = (abs((1 / Z)**2 - (1 / R_x)**2)**0.5) / w\n",
    "print(\"C = {}\".format(C))\n",
    "\n",
    "g = abs(C - C_u) / C_u\n",
    "print(\"g = {}\".format(g))"
   ]
  },
  {
   "cell_type": "code",
   "execution_count": 5,
   "metadata": {
    "collapsed": false
   },
   "outputs": [
    {
     "name": "stdout",
     "output_type": "stream",
     "text": [
      "tg = 0.020357520395261862\n"
     ]
    }
   ],
   "source": [
    "R_x = 18\n",
    "C_x = 1.8 * 10**-9\n",
    "\n",
    "tg = w * R_x * C_x\n",
    "print(\"tg = {}\".format(tg))"
   ]
  },
  {
   "cell_type": "code",
   "execution_count": 6,
   "metadata": {
    "collapsed": false
   },
   "outputs": [
    {
     "name": "stdout",
     "output_type": "stream",
     "text": [
      "tg = 0.001228047400400427\n"
     ]
    }
   ],
   "source": [
    "R_x = 1200\n",
    "C_x = 1.08 * 10**-6\n",
    "\n",
    "tg = 1 / (w * R_x * C_x)\n",
    "print(\"tg = {}\".format(tg))"
   ]
  },
  {
   "cell_type": "code",
   "execution_count": 7,
   "metadata": {
    "collapsed": false
   },
   "outputs": [
    {
     "name": "stdout",
     "output_type": "stream",
     "text": [
      "L_x = 0.0028000000000000004\n",
      "R_x = 2777.777777777778\n",
      "y = 0.007936507936507919\n",
      "Q = 0.6283185307179586\n"
     ]
    }
   ],
   "source": [
    "R_0 = 1000 * 0.36\n",
    "R_1 = 1000\n",
    "R_2 = 1000\n",
    "C_0 = 10 * 10**-9 * 0.28\n",
    "R = 2800\n",
    "\n",
    "L = 0.0028\n",
    "\n",
    "L_x = R_1 * R_2 * C_0\n",
    "print(\"L_x = {}\".format(L_x))\n",
    "\n",
    "R_x = R_1 * R_2 / R_0\n",
    "print(\"R_x = {}\".format(R_x))\n",
    "\n",
    "y = abs(R - R_x) / R\n",
    "print(\"y = {}\".format(y))\n",
    "\n",
    "q = w * L / R\n",
    "print(\"Q = {}\".format(q))"
   ]
  },
  {
   "cell_type": "code",
   "execution_count": 24,
   "metadata": {
    "collapsed": false
   },
   "outputs": [
    {
     "name": "stdout",
     "output_type": "stream",
     "text": [
      "L_x = 0.0799466478682756\n",
      "y = 0.0006669016465550223\n"
     ]
    }
   ],
   "source": [
    "C_0 = 10**-9\n",
    "f = 17800\n",
    "L = 0.08\n",
    "\n",
    "L_xp = 1 / ((2 * math.pi * f)**2 * C_0)\n",
    "print(\"L_x = {}\".format(L_xp))\n",
    "\n",
    "y = abs(L_xp - L) / L\n",
    "print(\"y = {}\".format(y))"
   ]
  },
  {
   "cell_type": "code",
   "execution_count": 17,
   "metadata": {
    "collapsed": false
   },
   "outputs": [
    {
     "data": {
      "text/plain": [
       "0.36"
      ]
     },
     "execution_count": 17,
     "metadata": {},
     "output_type": "execute_result"
    }
   ],
   "source": [
    "1 * 0.36"
   ]
  },
  {
   "cell_type": "code",
   "execution_count": 18,
   "metadata": {
    "collapsed": false
   },
   "outputs": [
    {
     "data": {
      "text/plain": [
       "0.6283185307179586"
      ]
     },
     "execution_count": 18,
     "metadata": {},
     "output_type": "execute_result"
    }
   ],
   "source": [
    "w * 0.00108 / 1080"
   ]
  },
  {
   "cell_type": "code",
   "execution_count": 19,
   "metadata": {
    "collapsed": false
   },
   "outputs": [
    {
     "data": {
      "text/plain": [
       "628318.5307179586"
      ]
     },
     "execution_count": 19,
     "metadata": {},
     "output_type": "execute_result"
    }
   ],
   "source": [
    "w"
   ]
  },
  {
   "cell_type": "code",
   "execution_count": null,
   "metadata": {
    "collapsed": true
   },
   "outputs": [],
   "source": []
  }
 ],
 "metadata": {
  "kernelspec": {
   "display_name": "Python 3",
   "language": "python",
   "name": "python3"
  },
  "language_info": {
   "codemirror_mode": {
    "name": "ipython",
    "version": 3
   },
   "file_extension": ".py",
   "mimetype": "text/x-python",
   "name": "python",
   "nbconvert_exporter": "python",
   "pygments_lexer": "ipython3",
   "version": "3.6.0"
  }
 },
 "nbformat": 4,
 "nbformat_minor": 2
}
