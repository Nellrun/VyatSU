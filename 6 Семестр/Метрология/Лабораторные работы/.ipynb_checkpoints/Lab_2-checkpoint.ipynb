{
 "cells": [
  {
   "cell_type": "code",
   "execution_count": 2,
   "metadata": {
    "collapsed": false
   },
   "outputs": [
    {
     "name": "stdout",
     "output_type": "stream",
     "text": [
      "i_1 = 0.011999988000012\n",
      "i_2 = 0.011999902286509953\n",
      "R_xp = 139.9999999992576\n",
      "g = 5.302881943110857e-10\n"
     ]
    }
   ],
   "source": [
    "E = 12\n",
    "R_a = 0.001\n",
    "R_b = 1000\n",
    "R_x = 140\n",
    "\n",
    "i_1 = E / (R_a + R_b)\n",
    "print(\"i_1 = {}\".format(i_1))\n",
    "\n",
    "i_2 = E / (R_a + R_b * (1 + R_a / R_x))\n",
    "print(\"i_2 = {}\".format(i_2))\n",
    "\n",
    "R_xp = R_a * (i_2 / (i_1 - i_2)) * (R_b / (R_a + R_b))\n",
    "print(\"R_xp = {}\".format(R_xp))\n",
    "\n",
    "g = abs((R_x - R_xp) / R_xp * 100)\n",
    "print(\"g = {}\".format(g))"
   ]
  },
  {
   "cell_type": "code",
   "execution_count": 3,
   "metadata": {
    "collapsed": false
   },
   "outputs": [
    {
     "name": "stdout",
     "output_type": "stream",
     "text": [
      "U_2 = 5.882352941176471\n",
      "R_x = 104000.0\n",
      "g = 0.0\n"
     ]
    }
   ],
   "source": [
    "E = 12\n",
    "R_x = 104000\n",
    "R_v = 100000\n",
    "\n",
    "U_1 = E\n",
    "\n",
    "U_2 = (E * R_v) / (R_x + R_v)\n",
    "print(\"U_2 = {}\".format(U_2))\n",
    "\n",
    "R_xp = (E * R_v) / (U_2) - R_v\n",
    "print(\"R_x = {}\".format(R_xp))\n",
    "\n",
    "g = (R_xp - R_x) / R_x * 100\n",
    "print(\"g = {}\".format(g))"
   ]
  },
  {
   "cell_type": "code",
   "execution_count": 25,
   "metadata": {
    "collapsed": false
   },
   "outputs": [
    {
     "name": "stdout",
     "output_type": "stream",
     "text": [
      "I = 0.06678666666666666\n",
      "R_x = 179.6765821521262\n",
      "g = 0.17967658215211044\n",
      "179.99100044997752\n"
     ]
    }
   ],
   "source": [
    "U_x = 12\n",
    "U_v = 12\n",
    "U = 12\n",
    "R_x = 180\n",
    "R_v = 100000\n",
    "\n",
    "I = U_x / R_x + U_x / R_v\n",
    "print(\"I = {}\".format(I))\n",
    "\n",
    "R_xp = U / I\n",
    "print(\"R_x = {}\".format(R_xp))\n",
    "\n",
    "g = abs((R_xp - R_x) / R_x * 100)\n",
    "print(\"g = {}\".format(g))"
   ]
  },
  {
   "cell_type": "code",
   "execution_count": 4,
   "metadata": {
    "collapsed": false
   },
   "outputs": [
    {
     "name": "stdout",
     "output_type": "stream",
     "text": [
      "R_x = 179.99100044997752\n",
      "g = 28.565000321412516\n"
     ]
    }
   ],
   "source": [
    "R_x = 140\n",
    "I = 0.06667\n",
    "U = 12\n",
    "\n",
    "R_xp = U / I\n",
    "print(\"R_x = {}\".format(R_xp))\n",
    "\n",
    "g = abs((R_xp - R_x) / R_x * 100)\n",
    "print(\"g = {}\".format(g))"
   ]
  },
  {
   "cell_type": "code",
   "execution_count": 28,
   "metadata": {
    "collapsed": false
   },
   "outputs": [
    {
     "name": "stdout",
     "output_type": "stream",
     "text": [
      "U_x = 4.20984\n",
      "U_0 = 3.898\n",
      "R_x = 1080.0\n",
      "g = 0.0\n"
     ]
    }
   ],
   "source": [
    "I = 0.003898\n",
    "R_0 = 1000\n",
    "R_x = 1080\n",
    "\n",
    "U_x = I * R_x\n",
    "print(\"U_x = {}\".format(U_x))\n",
    "\n",
    "U_0 = I * R_0\n",
    "print(\"U_0 = {}\".format(U_0))\n",
    "\n",
    "R_xp = R_0 * U_x / U_0\n",
    "print(\"R_x = {}\".format(R_xp))\n",
    "\n",
    "g = abs((R_xp - R_x) / R_x * 100)\n",
    "print(\"g = {}\".format(g))"
   ]
  },
  {
   "cell_type": "code",
   "execution_count": 5,
   "metadata": {
    "collapsed": false
   },
   "outputs": [
    {
     "name": "stdout",
     "output_type": "stream",
     "text": [
      "I_x = 0.011538461538461539\n",
      "I_0 = 0.012\n",
      "R_x = 1040.0\n",
      "g = 0.0\n"
     ]
    }
   ],
   "source": [
    "E = 12\n",
    "R_x = 1040\n",
    "R_0 = 1000\n",
    "\n",
    "I_x = E / R_x\n",
    "print(\"I_x = {}\".format(I_x))\n",
    "\n",
    "I_0 = E / R_0\n",
    "print(\"I_0 = {}\".format(I_0))\n",
    "\n",
    "R_xp = R_0 * I_0 / I_x\n",
    "print(\"R_x = {}\".format(R_xp))\n",
    "\n",
    "g = abs((R_xp - R_x) / R_x * 100)\n",
    "print(\"g = {}\".format(g))"
   ]
  },
  {
   "cell_type": "code",
   "execution_count": 6,
   "metadata": {
    "collapsed": false
   },
   "outputs": [
    {
     "name": "stdout",
     "output_type": "stream",
     "text": [
      "R_x = 1080.0\n",
      "g = 3.8461538461538463\n"
     ]
    }
   ],
   "source": [
    "R_1 = 1500\n",
    "R_2 = 1000\n",
    "R_3 = 1000\n",
    "R_x = 1040\n",
    "\n",
    "R_xp = 0.72 * R_1 * R_3 / R_2\n",
    "print(\"R_x = {}\".format(R_xp))\n",
    "\n",
    "g = abs((R_xp - R_x) / R_x * 100)\n",
    "print(\"g = {}\".format(g))"
   ]
  },
  {
   "cell_type": "code",
   "execution_count": null,
   "metadata": {
    "collapsed": true
   },
   "outputs": [],
   "source": []
  }
 ],
 "metadata": {
  "kernelspec": {
   "display_name": "Python 3",
   "language": "python",
   "name": "python3"
  },
  "language_info": {
   "codemirror_mode": {
    "name": "ipython",
    "version": 3
   },
   "file_extension": ".py",
   "mimetype": "text/x-python",
   "name": "python",
   "nbconvert_exporter": "python",
   "pygments_lexer": "ipython3",
   "version": "3.6.0"
  }
 },
 "nbformat": 4,
 "nbformat_minor": 2
}
